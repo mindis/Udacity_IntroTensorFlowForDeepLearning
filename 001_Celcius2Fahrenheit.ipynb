{
  "nbformat": 4,
  "nbformat_minor": 0,
  "metadata": {
    "colab": {
      "name": "001_Celcius2Fahrenheit.ipynb",
      "provenance": [],
      "collapsed_sections": []
    },
    "kernelspec": {
      "name": "python3",
      "display_name": "Python 3"
    },
    "accelerator": "GPU"
  },
  "cells": [
    {
      "cell_type": "code",
      "metadata": {
        "id": "wOsxoTShPuSp",
        "colab_type": "code",
        "colab": {}
      },
      "source": [
        "# Import packages.\n",
        "import tensorflow as tf\n",
        "import numpy as np\n",
        "import matplotlib.pyplot as plt\n",
        "\n",
        "# Set log error verbosity.\n",
        "tf.logging.set_verbosity(tf.logging.ERROR)"
      ],
      "execution_count": 0,
      "outputs": []
    },
    {
      "cell_type": "code",
      "metadata": {
        "id": "xxMWKRfoUSuu",
        "colab_type": "code",
        "colab": {
          "base_uri": "https://localhost:8080/",
          "height": 256
        },
        "outputId": "de6e6f09-c7dd-4491-8a1a-e63e44042fc0"
      },
      "source": [
        "# Setup the training data.\n",
        "data_celcius_in = np.array([-40, -10, 0, 8, 15, 22, 38], dtype=float)\n",
        "data_fahrenheit_out = np.array([-40, 14, 32, 46, 59, 72, 100], dtype=float)\n",
        "\n",
        "# Print the data.\n",
        "print(\"Machine Learning termonology:\")\n",
        "print(\"Inputs (Celcius) are called 'Feature'\")\n",
        "print(\"Outputs (Fahrenheit) are called 'Labels'\")\n",
        "print(\"\")\n",
        "print(\"-- Data List ---------------------------\")\n",
        "for i,c in enumerate(data_celcius_in):\n",
        "  print(\"{} degrees Celcius = {} degrees Fahrenheit\".format(c, data_fahrenheit_out[i]))\n",
        "print(\"----------------------------------------\")"
      ],
      "execution_count": 8,
      "outputs": [
        {
          "output_type": "stream",
          "text": [
            "Machine Learning termonology:\n",
            "Inputs (Celcius) are called 'Feature'\n",
            "Outputs (Fahrenheit) are called 'Labels'\n",
            "\n",
            "-- Data List ---------------------------\n",
            "-40.0 degrees Celcius = -40.0 degrees Fahrenheit\n",
            "-10.0 degrees Celcius = 14.0 degrees Fahrenheit\n",
            "0.0 degrees Celcius = 32.0 degrees Fahrenheit\n",
            "8.0 degrees Celcius = 46.0 degrees Fahrenheit\n",
            "15.0 degrees Celcius = 59.0 degrees Fahrenheit\n",
            "22.0 degrees Celcius = 72.0 degrees Fahrenheit\n",
            "38.0 degrees Celcius = 100.0 degrees Fahrenheit\n",
            "----------------------------------------\n"
          ],
          "name": "stdout"
        }
      ]
    },
    {
      "cell_type": "code",
      "metadata": {
        "id": "q5eRmAWbV55w",
        "colab_type": "code",
        "colab": {}
      },
      "source": [
        "# Create the model.\n",
        "layer = tf.keras.layers.Dense(units=1, input_shape=[1])\n",
        "model = tf.keras.Sequential([layer])\n",
        "\n",
        "# Compile the model.\n",
        "model.compile(loss='mean_squared_error', optimizer=tf.keras.optimizers.Adam(0.1))"
      ],
      "execution_count": 0,
      "outputs": []
    },
    {
      "cell_type": "code",
      "metadata": {
        "id": "v8eMS9JJXBW_",
        "colab_type": "code",
        "colab": {
          "base_uri": "https://localhost:8080/",
          "height": 72
        },
        "outputId": "f6f0065a-5433-4323-d07b-a145d2b7102a"
      },
      "source": [
        "# Train the model.\n",
        "print(\"Start training the model.\")\n",
        "print(\"The training would be 3500 iterations (7 'inputs' x 500 'epochs').\")\n",
        "history = model.fit(data_celcius_in, data_fahrenheit_out, epochs=500, verbose=False)\n",
        "print(\"Finished traning the model.\")"
      ],
      "execution_count": 12,
      "outputs": [
        {
          "output_type": "stream",
          "text": [
            "Start training the model.\n",
            "The training would be 3500 iterations (7 'inputs' x 500 'epochs').\n",
            "Finished traning the model.\n"
          ],
          "name": "stdout"
        }
      ]
    },
    {
      "cell_type": "code",
      "metadata": {
        "id": "y9izz4SFX81q",
        "colab_type": "code",
        "colab": {
          "base_uri": "https://localhost:8080/",
          "height": 297
        },
        "outputId": "28175387-2c51-41f3-977c-d15eb40364d6"
      },
      "source": [
        "# Plot the training statistics.\n",
        "plt.xlabel('Epoch Number')\n",
        "plt.ylabel('Loss Magnitude')\n",
        "plt.plot(history.history['loss'])"
      ],
      "execution_count": 14,
      "outputs": [
        {
          "output_type": "execute_result",
          "data": {
            "text/plain": [
              "[<matplotlib.lines.Line2D at 0x7fc68cd2e630>]"
            ]
          },
          "metadata": {
            "tags": []
          },
          "execution_count": 14
        },
        {
          "output_type": "display_data",
          "data": {
            "image/png": "[encoded data removed]",
            "text/plain": [
              "<Figure size 432x288 with 1 Axes>"
            ]
          },
          "metadata": {
            "tags": []
          }
        }
      ]
    },
    {
      "cell_type": "code",
      "metadata": {
        "id": "UXbGLGq5YdKb",
        "colab_type": "code",
        "colab": {
          "base_uri": "https://localhost:8080/",
          "height": 54
        },
        "outputId": "53187983-5e3f-4091-acf5-5a00187cd112"
      },
      "source": [
        "# Use the model to predict the output.\n",
        "print(\"The formula: F = C * 1.8 + 32\")\n",
        "answer = (100 * 1.8) + 32\n",
        "print(\"100.0 C = {} (Answer: {})\".format(model.predict([100.0]), answer))"
      ],
      "execution_count": 25,
      "outputs": [
        {
          "output_type": "stream",
          "text": [
            "The formula: F = C * 1.8 + 32\n",
            "100.0 C = [[211.2851]] (Answer: 212.0)\n"
          ],
          "name": "stdout"
        }
      ]
    },
    {
      "cell_type": "code",
      "metadata": {
        "id": "tL_FIKceadDO",
        "colab_type": "code",
        "colab": {
          "base_uri": "https://localhost:8080/",
          "height": 72
        },
        "outputId": "6cac8ea8-4048-4e94-b389-3d1dca906680"
      },
      "source": [
        "# Print internal layer data.\n",
        "print(\"-- Layer Data --------------------------\")\n",
        "print(layer.get_weights())\n",
        "print(\"----------------------------------------\")"
      ],
      "execution_count": 27,
      "outputs": [
        {
          "output_type": "stream",
          "text": [
            "-- Layer Data --------------------------\n",
            "[array([[1.8277518]], dtype=float32), array([28.509918], dtype=float32)]\n",
            "----------------------------------------\n"
          ],
          "name": "stdout"
        }
      ]
    },
    {
      "cell_type": "code",
      "metadata": {
        "id": "OqSP4Lo5bHyU",
        "colab_type": "code",
        "colab": {
          "base_uri": "https://localhost:8080/",
          "height": 384
        },
        "outputId": "3fcc56ce-b1f4-4320-9f6d-76deda732eaf"
      },
      "source": [
        "# Creating a new model with three layers.\n",
        "l0 = tf.keras.layers.Dense(units=4, input_shape=[1])\n",
        "l1 = tf.keras.layers.Dense(units=4)\n",
        "l2 = tf.keras.layers.Dense(units=1)\n",
        "model = tf.keras.Sequential([l0, l1, l2])\n",
        "model.compile(loss='mean_squared_error', optimizer=tf.keras.optimizers.Adam(0.1))\n",
        "print(\"Start training the model.\")\n",
        "model.fit(data_celcius_in, data_fahrenheit_out, epochs=500, verbose=False)\n",
        "print(\"Finished training the model.\")\n",
        "print(\"100.0 C = {} (Answer: {})\".format(model.predict([100.0]), answer))\n",
        "print(\"-- Layer Data (0) ----------------------\")\n",
        "print(l0.get_weights())\n",
        "print(\"----------------------------------------\")\n",
        "print(\"-- Layer Data (1) ----------------------\")\n",
        "print(l1.get_weights())\n",
        "print(\"----------------------------------------\")\n",
        "print(\"-- Layer Data (2) ----------------------\")\n",
        "print(l2.get_weights())\n",
        "print(\"----------------------------------------\")"
      ],
      "execution_count": 32,
      "outputs": [
        {
          "output_type": "stream",
          "text": [
            "Start training the model.\n",
            "Finished training the model.\n",
            "100.0 C = [[211.74744]] (Answer: 212.0)\n",
            "-- Layer Data (0) ----------------------\n",
            "[array([[-0.10937861,  0.5058094 , -0.50180745, -0.26826525]],\n",
            "      dtype=float32), array([-0.511326 ,  3.8207414, -3.840131 ,  2.542061 ], dtype=float32)]\n",
            "----------------------------------------\n",
            "-- Layer Data (1) ----------------------\n",
            "[array([[ 0.779066  ,  0.36130893,  0.08574443,  0.40437678],\n",
            "       [ 1.0062906 , -1.013177  , -0.38749194,  0.17966592],\n",
            "       [-0.72960734,  1.5362463 ,  0.3751566 ,  0.4716428 ],\n",
            "       [ 0.42322296, -0.76293874, -0.5339257 ,  0.29352343]],\n",
            "      dtype=float32), array([ 3.5691965, -3.7844167, -3.7022548, -2.9415727], dtype=float32)]\n",
            "----------------------------------------\n",
            "-- Layer Data (2) ----------------------\n",
            "[array([[ 0.6596148 ],\n",
            "       [-0.9756539 ],\n",
            "       [-0.55672663],\n",
            "       [-0.4517112 ]], dtype=float32), array([3.409209], dtype=float32)]\n",
            "----------------------------------------\n"
          ],
          "name": "stdout"
        }
      ]
    }
  ]
}