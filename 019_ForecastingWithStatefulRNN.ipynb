{
  "nbformat": 4,
  "nbformat_minor": 0,
  "metadata": {
    "colab": {
      "name": "019_ForecastingWithStatefulRNN.ipynb",
      "provenance": [],
      "collapsed_sections": []
    },
    "kernelspec": {
      "name": "python3",
      "display_name": "Python 3"
    },
    "accelerator": "GPU"
  },
  "cells": [
    {
      "cell_type": "code",
      "metadata": {
        "id": "uEDhBBjiMXfG",
        "colab_type": "code",
        "colab": {}
      },
      "source": [
        "# Education - Udacity \"Intro to TensorFlow for Deep Learning\"\n",
        "# Module: Forecasting with Stateful Recurrent Neural Network\n",
        "# REF: https://colab.research.google.com/github/tensorflow/examples/blob/master/courses/udacity_intro_to_tensorflow_for_deep_learning/l08c07_forecasting_with_stateful_rnn.ipynb"
      ],
      "execution_count": 0,
      "outputs": []
    },
    {
      "cell_type": "code",
      "metadata": {
        "id": "iPblHar2_lwQ",
        "colab_type": "code",
        "outputId": "0690445e-acad-407a-a993-b6f2dc5e41af",
        "colab": {
          "base_uri": "https://localhost:8080/",
          "height": 51
        }
      },
      "source": [
        "# Import packages.\n",
        "from __future__ import absolute_import, division, print_function, unicode_literals\n",
        "import numpy as np\n",
        "import matplotlib.pyplot as plt\n",
        "\n",
        "# Using version 2.x of Tensorflow.\n",
        "try:\n",
        "  # Use the %tensorflow_version magic if in colab.\n",
        "  %tensorflow_version 2.x\n",
        "except Exception:\n",
        "  pass\n",
        "\n",
        "# Tensorflow.\n",
        "import tensorflow as tf\n",
        "\n",
        "# Print Tensorflow version.\n",
        "print('TensorFlow Version:', tf.__version__)"
      ],
      "execution_count": 2,
      "outputs": [
        {
          "output_type": "stream",
          "text": [
            "TensorFlow 2.x selected.\n",
            "TensorFlow Version: 2.1.0\n"
          ],
          "name": "stdout"
        }
      ]
    },
    {
      "cell_type": "code",
      "metadata": {
        "id": "coAx7AiaznED",
        "colab_type": "code",
        "colab": {}
      },
      "source": [
        "# ====================\n",
        "# Helper Function\n",
        "# ====================\n",
        "# Plot serie.\n",
        "def plot_series(time, series, format=\"-\", start=0, end=None, label=None):\n",
        "  plt.plot(time[start:end], series[start:end], format, label=label)\n",
        "  plt.xlabel(\"Time\")\n",
        "  plt.ylabel(\"Value\")\n",
        "  if label:\n",
        "    plt.legend(fontsize=14)\n",
        "  plt.grid(True)\n",
        "\n",
        "\n",
        "# Trend.\n",
        "def trend(time, slope=0):\n",
        "  return slope * time\n",
        "\n",
        "\n",
        "# Seasonal pattern.\n",
        "def seasonal_pattern(season_time):\n",
        "  # Just an arbitrary pattern.\n",
        "  return np.where(season_time < 0.4, np.cos(season_time * 2 * np.pi), 1 / np.exp(3 * season_time))\n",
        "\n",
        "\n",
        "# Seasonality.\n",
        "def seasonality(time, period, amplitude=1, phase=0):\n",
        "  # Repeats the same pattern at each period.\n",
        "  season_time = ((time + phase) % period) / period\n",
        "  return amplitude * seasonal_pattern(season_time)\n",
        "\n",
        "\n",
        "# White noise.\n",
        "def white_noise(time, noise_level=1, seed=None):\n",
        "  rnd = np.random.RandomState(seed)\n",
        "  return rnd.randn(len(time)) * noise_level\n",
        "\n",
        "\n",
        "# Simple window dataset.\n",
        "def window_dataset(series, window_size, batch_size = 32, shuffle_buffer = 1000):\n",
        "  # Create a dataset of tensors.\n",
        "  dataset = tf.data.Dataset.from_tensor_slices(series)\n",
        "\n",
        "  # Drop remaining values so we get same size.\n",
        "  dataset = dataset.window(window_size + 1, shift = 1, drop_remainder = True)\n",
        "\n",
        "  # The dataset contains a tensor with size of 5.\n",
        "  dataset = dataset.flat_map(lambda window: window.batch(window_size + 1))\n",
        "\n",
        "  # Split into two arrays, one for inputs and one for labels.\n",
        "  dataset = dataset.map(lambda window: (window[ : -1], window[-1 : ]))\n",
        "\n",
        "  # Shuffle the dataset.\n",
        "  dataset = dataset.shuffle(shuffle_buffer)\n",
        "\n",
        "  # Create batches. The 'prefetch' indicates the Tensorflow will\n",
        "  # fetch the data while working, so we always have data to use.\n",
        "  dataset = dataset.batch(batch_size).prefetch(1)\n",
        "\n",
        "  return dataset\n",
        "\n",
        "\n",
        "# Sequential window dataset.\n",
        "def sequential_window_dataset(series, window_size):\n",
        "  series = tf.expand_dims(series, axis = -1)\n",
        "  ds = tf.data.Dataset.from_tensor_slices(series)\n",
        "  ds = ds.window(window_size + 1, shift = window_size, drop_remainder = True)\n",
        "  ds = ds.flat_map(lambda w: w.batch(window_size + 1))\n",
        "  ds = ds.map(lambda w: (w[:-1], w[1:]))\n",
        "  return ds.batch(1).prefetch(1)\n",
        "\n",
        "\n",
        "# Sequence to sequence dataset.\n",
        "def seq2seq_window_dataset(series, window_size, batch_size = 32, shuffle_buffer = 1000):\n",
        "  series = tf.expand_dims(series, axis = -1)\n",
        "  ds = tf.data.Dataset.from_tensor_slices(series)\n",
        "  ds = ds.window(window_size + 1, shift = 1, drop_remainder = True)\n",
        "  ds = ds.flat_map(lambda w: w.batch(window_size + 1))\n",
        "  ds = ds.shuffle(shuffle_buffer)\n",
        "  ds = ds.map(lambda w: (w[:-1], w[1:]))\n",
        "  return ds.batch(batch_size).prefetch(1)\n",
        "\n",
        "\n",
        "# Predict function.\n",
        "def model_forecast(model, series, window_size):\n",
        "  ds = tf.data.Dataset.from_tensor_slices(series)\n",
        "  ds = ds.window(window_size, shift=1, drop_remainder=True)\n",
        "  ds = ds.flat_map(lambda w: w.batch(window_size))\n",
        "  ds = ds.batch(32).prefetch(1)\n",
        "  forecast = model.predict(ds)\n",
        "  return forecast\n",
        "\n",
        "\n",
        "# Custom callback for reset the state.\n",
        "class ResetStateCallback(tf.keras.callbacks.Callback):\n",
        "  def on_epoch_begin(self, epoch, logs):\n",
        "    self.model.reset_states()"
      ],
      "execution_count": 0,
      "outputs": []
    },
    {
      "cell_type": "code",
      "metadata": {
        "id": "UBUbSbfIQ0fR",
        "colab_type": "code",
        "colab": {
          "base_uri": "https://localhost:8080/",
          "height": 272
        },
        "outputId": "224521a5-cb5e-4a91-f721-e26feb6bdd5a"
      },
      "source": [
        "# Test of creating sqeuantial window dataset.\n",
        "for X_batch, y_batch in sequential_window_dataset(tf.range(10), 3):\n",
        "    print(X_batch.numpy(), y_batch.numpy())"
      ],
      "execution_count": 4,
      "outputs": [
        {
          "output_type": "stream",
          "text": [
            "[[[0]\n",
            "  [1]\n",
            "  [2]]] [[[1]\n",
            "  [2]\n",
            "  [3]]]\n",
            "[[[3]\n",
            "  [4]\n",
            "  [5]]] [[[4]\n",
            "  [5]\n",
            "  [6]]]\n",
            "[[[6]\n",
            "  [7]\n",
            "  [8]]] [[[7]\n",
            "  [8]\n",
            "  [9]]]\n"
          ],
          "name": "stdout"
        }
      ]
    },
    {
      "cell_type": "code",
      "metadata": {
        "id": "fQQfI51xd_9A",
        "colab_type": "code",
        "outputId": "5064b82a-a853-4e87-ac83-da776e1ea329",
        "colab": {
          "base_uri": "https://localhost:8080/",
          "height": 388
        }
      },
      "source": [
        "# Create dataset.\n",
        "time      = np.arange(4 * 365 + 1)\n",
        "slope     = 0.05\n",
        "baseline  = 10\n",
        "amplitude = 40\n",
        "series    = baseline + trend(time, slope) + seasonality(time, period = 365, amplitude = amplitude)\n",
        "\n",
        "noise_level = 5\n",
        "noise       = white_noise(time, noise_level, seed = 42)\n",
        "\n",
        "series += noise\n",
        "\n",
        "plt.figure(figsize=(10, 6))\n",
        "plot_series(time, series)\n",
        "plt.show()"
      ],
      "execution_count": 5,
      "outputs": [
        {
          "output_type": "display_data",
          "data": {
            "image/png": "[encoded data removed]",
            "text/plain": [
              "<Figure size 720x432 with 1 Axes>"
            ]
          },
          "metadata": {
            "tags": []
          }
        }
      ]
    },
    {
      "cell_type": "code",
      "metadata": {
        "id": "5b4z3S6He1XM",
        "colab_type": "code",
        "colab": {}
      },
      "source": [
        "# Prepare for machine learning.\n",
        "split_time    = 1000\n",
        "time_train    = time[:split_time]\n",
        "series_train  = series[:split_time]\n",
        "time_valid    = time[split_time:]\n",
        "series_valid  = series[split_time:]"
      ],
      "execution_count": 0,
      "outputs": []
    },
    {
      "cell_type": "code",
      "metadata": {
        "id": "fdPTkR0Qfe4a",
        "colab_type": "code",
        "outputId": "3ee6b3a3-33d2-454f-c293-bc6ede36fdfe",
        "colab": {
          "base_uri": "https://localhost:8080/",
          "height": 1000
        }
      },
      "source": [
        "# ==================\n",
        "# Stateful RNN Forecasting\n",
        "# ==================\n",
        "# Clear session, just useful under development, as we usually\n",
        "# run the session multiple time in the notebook.\n",
        "SEED        = 42\n",
        "WINDOW_SIZE = 30\n",
        "tf.keras.backend.clear_session()\n",
        "tf.random.set_seed(SEED)\n",
        "np.random.seed(SEED)\n",
        "\n",
        "dataset_train = sequential_window_dataset(series_train, WINDOW_SIZE)\n",
        "\n",
        "# Build the RNN model.\n",
        "model = tf.keras.models.Sequential([\n",
        "  tf.keras.layers.SimpleRNN(100, return_sequences = True, stateful = True, batch_input_shape = [1, None, 1]),\n",
        "  tf.keras.layers.SimpleRNN(100, return_sequences = True, stateful = True),\n",
        "  tf.keras.layers.Dense(1),\n",
        "  tf.keras.layers.Lambda(lambda x: x * 200.0)\n",
        "])\n",
        "lr_schedule = tf.keras.callbacks.LearningRateScheduler(\n",
        "    lambda epoch: 1e-8 * 10**(epoch / 30)\n",
        ")\n",
        "reset_states = ResetStateCallback()\n",
        "model.compile(\n",
        "  loss = tf.keras.losses.Huber(),\n",
        "  optimizer = tf.keras.optimizers.SGD(lr = 1e-8, momentum = 0.9),\n",
        "  metrics = [\"mae\"]\n",
        ")\n",
        "history = model.fit(dataset_train, epochs = 100, callbacks = [lr_schedule, reset_states])"
      ],
      "execution_count": 7,
      "outputs": [
        {
          "output_type": "stream",
          "text": [
            "Epoch 1/100\n",
            "33/33 [==============================] - 4s 113ms/step - loss: 105.9340 - mae: 106.4340\n",
            "Epoch 2/100\n",
            "33/33 [==============================] - 1s 35ms/step - loss: 70.8572 - mae: 71.3572\n",
            "Epoch 3/100\n",
            "33/33 [==============================] - 1s 30ms/step - loss: 39.8080 - mae: 40.3048\n",
            "Epoch 4/100\n",
            "33/33 [==============================] - 1s 29ms/step - loss: 27.3450 - mae: 27.8404\n",
            "Epoch 5/100\n",
            "33/33 [==============================] - 1s 29ms/step - loss: 24.4956 - mae: 24.9892\n",
            "Epoch 6/100\n",
            "33/33 [==============================] - 1s 28ms/step - loss: 23.2601 - mae: 23.7517\n",
            "Epoch 7/100\n",
            "33/33 [==============================] - 1s 29ms/step - loss: 22.0604 - mae: 22.5533\n",
            "Epoch 8/100\n",
            "33/33 [==============================] - 1s 28ms/step - loss: 20.8543 - mae: 21.3463\n",
            "Epoch 9/100\n",
            "33/33 [==============================] - 1s 30ms/step - loss: 19.8307 - mae: 20.3245\n",
            "Epoch 10/100\n",
            "33/33 [==============================] - 1s 31ms/step - loss: 18.9399 - mae: 19.4319\n",
            "Epoch 11/100\n",
            "33/33 [==============================] - 1s 29ms/step - loss: 18.2618 - mae: 18.7534\n",
            "Epoch 12/100\n",
            "33/33 [==============================] - 1s 28ms/step - loss: 17.8208 - mae: 18.3103\n",
            "Epoch 13/100\n",
            "33/33 [==============================] - 1s 30ms/step - loss: 17.5456 - mae: 18.0350\n",
            "Epoch 14/100\n",
            "33/33 [==============================] - 1s 27ms/step - loss: 17.3178 - mae: 17.8066\n",
            "Epoch 15/100\n",
            "33/33 [==============================] - 1s 28ms/step - loss: 17.1075 - mae: 17.5962\n",
            "Epoch 16/100\n",
            "33/33 [==============================] - 1s 29ms/step - loss: 16.8930 - mae: 17.3833\n",
            "Epoch 17/100\n",
            "33/33 [==============================] - 1s 29ms/step - loss: 16.6635 - mae: 17.1554\n",
            "Epoch 18/100\n",
            "33/33 [==============================] - 1s 29ms/step - loss: 16.4183 - mae: 16.9093\n",
            "Epoch 19/100\n",
            "33/33 [==============================] - 1s 29ms/step - loss: 16.1545 - mae: 16.6440\n",
            "Epoch 20/100\n",
            "33/33 [==============================] - 1s 30ms/step - loss: 15.8707 - mae: 16.3592\n",
            "Epoch 21/100\n",
            "33/33 [==============================] - 1s 31ms/step - loss: 15.5813 - mae: 16.0698\n",
            "Epoch 22/100\n",
            "33/33 [==============================] - 1s 29ms/step - loss: 15.2826 - mae: 15.7715\n",
            "Epoch 23/100\n",
            "33/33 [==============================] - 1s 35ms/step - loss: 14.9790 - mae: 15.4695\n",
            "Epoch 24/100\n",
            "33/33 [==============================] - 1s 30ms/step - loss: 14.6615 - mae: 15.1514\n",
            "Epoch 25/100\n",
            "33/33 [==============================] - 1s 29ms/step - loss: 14.3330 - mae: 14.8220\n",
            "Epoch 26/100\n",
            "33/33 [==============================] - 1s 30ms/step - loss: 13.9788 - mae: 14.4693\n",
            "Epoch 27/100\n",
            "33/33 [==============================] - 1s 30ms/step - loss: 13.5956 - mae: 14.0828\n",
            "Epoch 28/100\n",
            "33/33 [==============================] - 1s 31ms/step - loss: 13.2027 - mae: 13.6894\n",
            "Epoch 29/100\n",
            "33/33 [==============================] - 1s 31ms/step - loss: 12.8241 - mae: 13.3102\n",
            "Epoch 30/100\n",
            "33/33 [==============================] - 1s 33ms/step - loss: 12.4855 - mae: 12.9692\n",
            "Epoch 31/100\n",
            "33/33 [==============================] - 1s 32ms/step - loss: 12.1524 - mae: 12.6349\n",
            "Epoch 32/100\n",
            "33/33 [==============================] - 1s 32ms/step - loss: 11.8552 - mae: 12.3387\n",
            "Epoch 33/100\n",
            "33/33 [==============================] - 1s 32ms/step - loss: 11.5994 - mae: 12.0845\n",
            "Epoch 34/100\n",
            "33/33 [==============================] - 1s 31ms/step - loss: 11.3511 - mae: 11.8377\n",
            "Epoch 35/100\n",
            "33/33 [==============================] - 1s 29ms/step - loss: 11.0647 - mae: 11.5519\n",
            "Epoch 36/100\n",
            "33/33 [==============================] - 1s 29ms/step - loss: 10.7654 - mae: 11.2513\n",
            "Epoch 37/100\n",
            "33/33 [==============================] - 1s 29ms/step - loss: 10.4346 - mae: 10.9200\n",
            "Epoch 38/100\n",
            "33/33 [==============================] - 1s 29ms/step - loss: 10.0617 - mae: 10.5416\n",
            "Epoch 39/100\n",
            "33/33 [==============================] - 1s 29ms/step - loss: 9.8111 - mae: 10.2907\n",
            "Epoch 40/100\n",
            "33/33 [==============================] - 1s 30ms/step - loss: 9.7208 - mae: 10.2041\n",
            "Epoch 41/100\n",
            "33/33 [==============================] - 1s 33ms/step - loss: 9.5675 - mae: 10.0504\n",
            "Epoch 42/100\n",
            "33/33 [==============================] - 1s 29ms/step - loss: 9.4666 - mae: 9.9515\n",
            "Epoch 43/100\n",
            "33/33 [==============================] - 1s 30ms/step - loss: 9.1888 - mae: 9.6736\n",
            "Epoch 44/100\n",
            "33/33 [==============================] - 1s 28ms/step - loss: 9.1645 - mae: 9.6502\n",
            "Epoch 45/100\n",
            "33/33 [==============================] - 1s 29ms/step - loss: 9.0253 - mae: 9.5096\n",
            "Epoch 46/100\n",
            "33/33 [==============================] - 1s 28ms/step - loss: 8.9602 - mae: 9.4419\n",
            "Epoch 47/100\n",
            "33/33 [==============================] - 1s 30ms/step - loss: 8.7674 - mae: 9.2507\n",
            "Epoch 48/100\n",
            "33/33 [==============================] - 1s 29ms/step - loss: 8.7665 - mae: 9.2488\n",
            "Epoch 49/100\n",
            "33/33 [==============================] - 1s 28ms/step - loss: 9.2735 - mae: 9.7596\n",
            "Epoch 50/100\n",
            "33/33 [==============================] - 1s 29ms/step - loss: 9.4916 - mae: 9.9780\n",
            "Epoch 51/100\n",
            "33/33 [==============================] - 1s 28ms/step - loss: 8.4910 - mae: 8.9760\n",
            "Epoch 52/100\n",
            "33/33 [==============================] - 1s 31ms/step - loss: 8.2833 - mae: 8.7678\n",
            "Epoch 53/100\n",
            "33/33 [==============================] - 1s 31ms/step - loss: 9.8082 - mae: 10.2943\n",
            "Epoch 54/100\n",
            "33/33 [==============================] - 1s 29ms/step - loss: 8.9991 - mae: 9.4835\n",
            "Epoch 55/100\n",
            "33/33 [==============================] - 1s 32ms/step - loss: 10.5211 - mae: 11.0101\n",
            "Epoch 56/100\n",
            "33/33 [==============================] - 1s 30ms/step - loss: 7.9109 - mae: 8.3882\n",
            "Epoch 57/100\n",
            "33/33 [==============================] - 1s 31ms/step - loss: 7.8925 - mae: 8.3767\n",
            "Epoch 58/100\n",
            "33/33 [==============================] - 1s 30ms/step - loss: 8.7816 - mae: 9.2648\n",
            "Epoch 59/100\n",
            "33/33 [==============================] - 1s 32ms/step - loss: 8.5375 - mae: 9.0232\n",
            "Epoch 60/100\n",
            "33/33 [==============================] - 1s 31ms/step - loss: 17.9549 - mae: 18.4497\n",
            "Epoch 61/100\n",
            "33/33 [==============================] - 1s 32ms/step - loss: 11.6267 - mae: 12.1171\n",
            "Epoch 62/100\n",
            "33/33 [==============================] - 1s 34ms/step - loss: 8.1959 - mae: 8.6828\n",
            "Epoch 63/100\n",
            "33/33 [==============================] - 1s 28ms/step - loss: 9.9632 - mae: 10.4540\n",
            "Epoch 64/100\n",
            "33/33 [==============================] - 1s 32ms/step - loss: 15.5588 - mae: 16.0535\n",
            "Epoch 65/100\n",
            "33/33 [==============================] - 1s 31ms/step - loss: 13.4361 - mae: 13.9302\n",
            "Epoch 66/100\n",
            "33/33 [==============================] - 1s 32ms/step - loss: 12.0614 - mae: 12.5525\n",
            "Epoch 67/100\n",
            "33/33 [==============================] - 1s 32ms/step - loss: 8.6886 - mae: 9.1753\n",
            "Epoch 68/100\n",
            "33/33 [==============================] - 1s 32ms/step - loss: 13.0388 - mae: 13.5303\n",
            "Epoch 69/100\n",
            "33/33 [==============================] - 1s 31ms/step - loss: 13.8370 - mae: 14.3304\n",
            "Epoch 70/100\n",
            "33/33 [==============================] - 1s 32ms/step - loss: 11.5184 - mae: 12.0099\n",
            "Epoch 71/100\n",
            "33/33 [==============================] - 1s 31ms/step - loss: 12.0068 - mae: 12.4979\n",
            "Epoch 72/100\n",
            "33/33 [==============================] - 1s 32ms/step - loss: 6.1718 - mae: 6.6527\n",
            "Epoch 73/100\n",
            "33/33 [==============================] - 1s 31ms/step - loss: 10.8294 - mae: 11.3231\n",
            "Epoch 74/100\n",
            "33/33 [==============================] - 1s 30ms/step - loss: 10.1214 - mae: 10.6119\n",
            "Epoch 75/100\n",
            "33/33 [==============================] - 1s 30ms/step - loss: 20.6708 - mae: 21.1671\n",
            "Epoch 76/100\n",
            "33/33 [==============================] - 1s 31ms/step - loss: 25.7383 - mae: 26.2345\n",
            "Epoch 77/100\n",
            "33/33 [==============================] - 1s 32ms/step - loss: 20.6633 - mae: 21.1608\n",
            "Epoch 78/100\n",
            "33/33 [==============================] - 1s 31ms/step - loss: 13.9535 - mae: 14.4452\n",
            "Epoch 79/100\n",
            "33/33 [==============================] - 1s 30ms/step - loss: 14.6573 - mae: 15.1464\n",
            "Epoch 80/100\n",
            "33/33 [==============================] - 1s 31ms/step - loss: 17.6148 - mae: 18.1099\n",
            "Epoch 81/100\n",
            "33/33 [==============================] - 1s 31ms/step - loss: 12.0191 - mae: 12.5086\n",
            "Epoch 82/100\n",
            "33/33 [==============================] - 1s 30ms/step - loss: 37.7342 - mae: 38.2327\n",
            "Epoch 83/100\n",
            "33/33 [==============================] - 1s 32ms/step - loss: 25.6778 - mae: 26.1753\n",
            "Epoch 84/100\n",
            "33/33 [==============================] - 1s 28ms/step - loss: 31.9847 - mae: 32.4823\n",
            "Epoch 85/100\n",
            "33/33 [==============================] - 1s 29ms/step - loss: 23.6280 - mae: 24.1269\n",
            "Epoch 86/100\n",
            "33/33 [==============================] - 1s 29ms/step - loss: 21.4717 - mae: 21.9674\n",
            "Epoch 87/100\n",
            "33/33 [==============================] - 1s 30ms/step - loss: 34.3318 - mae: 34.8281\n",
            "Epoch 88/100\n",
            "33/33 [==============================] - 1s 27ms/step - loss: 25.6598 - mae: 26.1557\n",
            "Epoch 89/100\n",
            "33/33 [==============================] - 1s 28ms/step - loss: 25.3684 - mae: 25.8652\n",
            "Epoch 90/100\n",
            "33/33 [==============================] - 1s 29ms/step - loss: 51.0883 - mae: 51.5878\n",
            "Epoch 91/100\n",
            "33/33 [==============================] - 1s 29ms/step - loss: 38.4429 - mae: 38.9413\n",
            "Epoch 92/100\n",
            "33/33 [==============================] - 1s 31ms/step - loss: 37.1348 - mae: 37.6331\n",
            "Epoch 93/100\n",
            "33/33 [==============================] - 1s 33ms/step - loss: 50.6575 - mae: 51.1539\n",
            "Epoch 94/100\n",
            "33/33 [==============================] - 1s 30ms/step - loss: 56.8039 - mae: 57.3032\n",
            "Epoch 95/100\n",
            "33/33 [==============================] - 1s 28ms/step - loss: 30.1228 - mae: 30.6216\n",
            "Epoch 96/100\n",
            "33/33 [==============================] - 1s 28ms/step - loss: 35.4810 - mae: 35.9787\n",
            "Epoch 97/100\n",
            "33/33 [==============================] - 1s 29ms/step - loss: 37.3429 - mae: 37.8395\n",
            "Epoch 98/100\n",
            "33/33 [==============================] - 1s 30ms/step - loss: 46.8504 - mae: 47.3472\n",
            "Epoch 99/100\n",
            "33/33 [==============================] - 1s 29ms/step - loss: 47.3405 - mae: 47.8395\n",
            "Epoch 100/100\n",
            "33/33 [==============================] - 1s 29ms/step - loss: 36.5945 - mae: 37.0926\n"
          ],
          "name": "stdout"
        }
      ]
    },
    {
      "cell_type": "code",
      "metadata": {
        "id": "X4psC3hr95ac",
        "colab_type": "code",
        "outputId": "59ee280c-35d2-432e-ba80-9b764a869cf7",
        "colab": {
          "base_uri": "https://localhost:8080/",
          "height": 290
        }
      },
      "source": [
        "# Find the optimal learning rate.\n",
        "plt.semilogx(history.history[\"lr\"], history.history[\"loss\"])\n",
        "plt.axis([1e-8, 1e-4, 0, 30])"
      ],
      "execution_count": 8,
      "outputs": [
        {
          "output_type": "execute_result",
          "data": {
            "text/plain": [
              "[1e-08, 0.0001, 0, 30]"
            ]
          },
          "metadata": {
            "tags": []
          },
          "execution_count": 8
        },
        {
          "output_type": "display_data",
          "data": {
            "image/png": "[encoded data removed]",
            "text/plain": [
              "<Figure size 432x288 with 1 Axes>"
            ]
          },
          "metadata": {
            "tags": []
          }
        }
      ]
    },
    {
      "cell_type": "code",
      "metadata": {
        "id": "yqqI7h4zA1u6",
        "colab_type": "code",
        "colab": {}
      },
      "source": [
        "# As we see that it would be safe to start with 1e-7."
      ],
      "execution_count": 0,
      "outputs": []
    },
    {
      "cell_type": "code",
      "metadata": {
        "id": "KkypZo8UiR5K",
        "colab_type": "code",
        "outputId": "97cf1292-ce95-47d4-a725-e5922fc0bf17",
        "colab": {
          "base_uri": "https://localhost:8080/",
          "height": 1000
        }
      },
      "source": [
        "# Update model with the learning rate.\n",
        "tf.keras.backend.clear_session()\n",
        "tf.random.set_seed(SEED)\n",
        "np.random.seed(SEED)\n",
        "\n",
        "checkpoint_name = \"statefil_rnn_checkpoint.h5\"\n",
        "dataset_train   = sequential_window_dataset(series_train, WINDOW_SIZE)\n",
        "dataset_valid   = sequential_window_dataset(series_valid, WINDOW_SIZE)\n",
        "\n",
        "model = tf.keras.models.Sequential([\n",
        "  tf.keras.layers.SimpleRNN(100, return_sequences = True, stateful = True, batch_input_shape = [1, None, 1]),\n",
        "  tf.keras.layers.SimpleRNN(100, return_sequences = True, stateful = True),\n",
        "  tf.keras.layers.Dense(1),\n",
        "  tf.keras.layers.Lambda(lambda x: x * 200.0)\n",
        "])\n",
        "\n",
        "model.compile(\n",
        "  loss = tf.keras.losses.Huber(),\n",
        "  optimizer = tf.keras.optimizers.SGD(lr = 1e-7, momentum = 0.9),\n",
        "  metrics = [\"mae\"]\n",
        ")\n",
        "\n",
        "early_stopping    = tf.keras.callbacks.EarlyStopping(patience = 50)\n",
        "reset_states      = ResetStateCallback()\n",
        "model_checkpoint  = tf.keras.callbacks.ModelCheckpoint(checkpoint_name, save_best_only = True)\n",
        "model.fit(\n",
        "  dataset_train,\n",
        "  epochs = 500,\n",
        "  validation_data = dataset_valid,\n",
        "  callbacks = [early_stopping, model_checkpoint, reset_states]\n",
        ")"
      ],
      "execution_count": 10,
      "outputs": [
        {
          "output_type": "stream",
          "text": [
            "Epoch 1/500\n",
            "33/33 [==============================] - 2s 74ms/step - loss: 60.2499 - mae: 60.7478 - val_loss: 25.0217 - val_mae: 25.5179\n",
            "Epoch 2/500\n",
            "33/33 [==============================] - 1s 35ms/step - loss: 21.4714 - mae: 21.9618 - val_loss: 10.9142 - val_mae: 11.4074\n",
            "Epoch 3/500\n",
            "33/33 [==============================] - 1s 33ms/step - loss: 18.7249 - mae: 19.2167 - val_loss: 12.0569 - val_mae: 12.5479\n",
            "Epoch 4/500\n",
            "33/33 [==============================] - 1s 34ms/step - loss: 17.5231 - mae: 18.0143 - val_loss: 10.4489 - val_mae: 10.9391\n",
            "Epoch 5/500\n",
            "33/33 [==============================] - 1s 32ms/step - loss: 16.6983 - mae: 17.1891 - val_loss: 9.9581 - val_mae: 10.4499\n",
            "Epoch 6/500\n",
            "33/33 [==============================] - 1s 33ms/step - loss: 15.9090 - mae: 16.3984 - val_loss: 9.1539 - val_mae: 9.6415\n",
            "Epoch 7/500\n",
            "33/33 [==============================] - 1s 32ms/step - loss: 15.2155 - mae: 15.7027 - val_loss: 8.3393 - val_mae: 8.8249\n",
            "Epoch 8/500\n",
            "33/33 [==============================] - 1s 31ms/step - loss: 14.5099 - mae: 14.9961 - val_loss: 7.8259 - val_mae: 8.3123\n",
            "Epoch 9/500\n",
            "33/33 [==============================] - 1s 33ms/step - loss: 13.9258 - mae: 14.4126 - val_loss: 7.3023 - val_mae: 7.7879\n",
            "Epoch 10/500\n",
            "33/33 [==============================] - 1s 33ms/step - loss: 13.4064 - mae: 13.8968 - val_loss: 6.8635 - val_mae: 7.3454\n",
            "Epoch 11/500\n",
            "33/33 [==============================] - 1s 32ms/step - loss: 12.9188 - mae: 13.4082 - val_loss: 6.5419 - val_mae: 7.0255\n",
            "Epoch 12/500\n",
            "33/33 [==============================] - 1s 34ms/step - loss: 12.4920 - mae: 12.9762 - val_loss: 6.3124 - val_mae: 6.7950\n",
            "Epoch 13/500\n",
            "33/33 [==============================] - 1s 32ms/step - loss: 12.1188 - mae: 12.6026 - val_loss: 6.1875 - val_mae: 6.6707\n",
            "Epoch 14/500\n",
            "33/33 [==============================] - 1s 34ms/step - loss: 11.7833 - mae: 12.2670 - val_loss: 6.0323 - val_mae: 6.5165\n",
            "Epoch 15/500\n",
            "33/33 [==============================] - 1s 34ms/step - loss: 11.4780 - mae: 11.9594 - val_loss: 5.9862 - val_mae: 6.4694\n",
            "Epoch 16/500\n",
            "33/33 [==============================] - 1s 34ms/step - loss: 11.1839 - mae: 11.6646 - val_loss: 5.9122 - val_mae: 6.3946\n",
            "Epoch 17/500\n",
            "33/33 [==============================] - 1s 33ms/step - loss: 10.9185 - mae: 11.3992 - val_loss: 5.8466 - val_mae: 6.3273\n",
            "Epoch 18/500\n",
            "33/33 [==============================] - 1s 35ms/step - loss: 10.6848 - mae: 11.1675 - val_loss: 5.7965 - val_mae: 6.2760\n",
            "Epoch 19/500\n",
            "33/33 [==============================] - 1s 33ms/step - loss: 10.4680 - mae: 10.9499 - val_loss: 5.7590 - val_mae: 6.2378\n",
            "Epoch 20/500\n",
            "33/33 [==============================] - 1s 34ms/step - loss: 10.2666 - mae: 10.7485 - val_loss: 5.7192 - val_mae: 6.1963\n",
            "Epoch 21/500\n",
            "33/33 [==============================] - 1s 34ms/step - loss: 10.0846 - mae: 10.5658 - val_loss: 5.7028 - val_mae: 6.1786\n",
            "Epoch 22/500\n",
            "33/33 [==============================] - 1s 32ms/step - loss: 9.9236 - mae: 10.4026 - val_loss: 5.7120 - val_mae: 6.1868\n",
            "Epoch 23/500\n",
            "33/33 [==============================] - 1s 34ms/step - loss: 9.7868 - mae: 10.2649 - val_loss: 5.7474 - val_mae: 6.2220\n",
            "Epoch 24/500\n",
            "33/33 [==============================] - 1s 34ms/step - loss: 9.6725 - mae: 10.1518 - val_loss: 5.8241 - val_mae: 6.3028\n",
            "Epoch 25/500\n",
            "33/33 [==============================] - 1s 34ms/step - loss: 9.5742 - mae: 10.0551 - val_loss: 5.9584 - val_mae: 6.4395\n",
            "Epoch 26/500\n",
            "33/33 [==============================] - 1s 32ms/step - loss: 9.4785 - mae: 9.9604 - val_loss: 6.0587 - val_mae: 6.5404\n",
            "Epoch 27/500\n",
            "33/33 [==============================] - 1s 32ms/step - loss: 9.3864 - mae: 9.8687 - val_loss: 6.1350 - val_mae: 6.6168\n",
            "Epoch 28/500\n",
            "33/33 [==============================] - 1s 33ms/step - loss: 9.3000 - mae: 9.7817 - val_loss: 6.2112 - val_mae: 6.6921\n",
            "Epoch 29/500\n",
            "33/33 [==============================] - 1s 33ms/step - loss: 9.2202 - mae: 9.6999 - val_loss: 6.3077 - val_mae: 6.7892\n",
            "Epoch 30/500\n",
            "33/33 [==============================] - 1s 35ms/step - loss: 9.1452 - mae: 9.6252 - val_loss: 6.4202 - val_mae: 6.9007\n",
            "Epoch 31/500\n",
            "33/33 [==============================] - 1s 33ms/step - loss: 9.0753 - mae: 9.5556 - val_loss: 6.5524 - val_mae: 7.0327\n",
            "Epoch 32/500\n",
            "33/33 [==============================] - 1s 33ms/step - loss: 9.0090 - mae: 9.4910 - val_loss: 6.6859 - val_mae: 7.1654\n",
            "Epoch 33/500\n",
            "33/33 [==============================] - 1s 31ms/step - loss: 8.9432 - mae: 9.4252 - val_loss: 6.8139 - val_mae: 7.2942\n",
            "Epoch 34/500\n",
            "33/33 [==============================] - 1s 34ms/step - loss: 8.8776 - mae: 9.3592 - val_loss: 6.8729 - val_mae: 7.3541\n",
            "Epoch 35/500\n",
            "33/33 [==============================] - 1s 32ms/step - loss: 8.8143 - mae: 9.2940 - val_loss: 6.8389 - val_mae: 7.3182\n",
            "Epoch 36/500\n",
            "33/33 [==============================] - 1s 32ms/step - loss: 8.7465 - mae: 9.2257 - val_loss: 6.7920 - val_mae: 7.2707\n",
            "Epoch 37/500\n",
            "33/33 [==============================] - 1s 31ms/step - loss: 8.6807 - mae: 9.1613 - val_loss: 6.7235 - val_mae: 7.2015\n",
            "Epoch 38/500\n",
            "33/33 [==============================] - 1s 33ms/step - loss: 8.6150 - mae: 9.0962 - val_loss: 6.6948 - val_mae: 7.1732\n",
            "Epoch 39/500\n",
            "33/33 [==============================] - 1s 33ms/step - loss: 8.5511 - mae: 9.0316 - val_loss: 6.6938 - val_mae: 7.1731\n",
            "Epoch 40/500\n",
            "33/33 [==============================] - 1s 33ms/step - loss: 8.4998 - mae: 8.9825 - val_loss: 6.7497 - val_mae: 7.2292\n",
            "Epoch 41/500\n",
            "33/33 [==============================] - 1s 31ms/step - loss: 8.4619 - mae: 8.9458 - val_loss: 6.8581 - val_mae: 7.3382\n",
            "Epoch 42/500\n",
            "33/33 [==============================] - 1s 32ms/step - loss: 8.4213 - mae: 8.9042 - val_loss: 6.9451 - val_mae: 7.4273\n",
            "Epoch 43/500\n",
            "33/33 [==============================] - 1s 32ms/step - loss: 8.3727 - mae: 8.8558 - val_loss: 6.9883 - val_mae: 7.4710\n",
            "Epoch 44/500\n",
            "33/33 [==============================] - 1s 31ms/step - loss: 8.3164 - mae: 8.7984 - val_loss: 6.9493 - val_mae: 7.4307\n",
            "Epoch 45/500\n",
            "33/33 [==============================] - 1s 33ms/step - loss: 8.2595 - mae: 8.7403 - val_loss: 6.8679 - val_mae: 7.3469\n",
            "Epoch 46/500\n",
            "33/33 [==============================] - 1s 32ms/step - loss: 8.2018 - mae: 8.6818 - val_loss: 6.7928 - val_mae: 7.2708\n",
            "Epoch 47/500\n",
            "33/33 [==============================] - 1s 35ms/step - loss: 8.1484 - mae: 8.6291 - val_loss: 6.7779 - val_mae: 7.2560\n",
            "Epoch 48/500\n",
            "33/33 [==============================] - 1s 33ms/step - loss: 8.1042 - mae: 8.5858 - val_loss: 6.8247 - val_mae: 7.3038\n",
            "Epoch 49/500\n",
            "33/33 [==============================] - 1s 31ms/step - loss: 8.0652 - mae: 8.5466 - val_loss: 6.9032 - val_mae: 7.3848\n",
            "Epoch 50/500\n",
            "33/33 [==============================] - 1s 32ms/step - loss: 8.0286 - mae: 8.5106 - val_loss: 6.9970 - val_mae: 7.4815\n",
            "Epoch 51/500\n",
            "33/33 [==============================] - 1s 31ms/step - loss: 7.9923 - mae: 8.4729 - val_loss: 7.0716 - val_mae: 7.5577\n",
            "Epoch 52/500\n",
            "33/33 [==============================] - 1s 32ms/step - loss: 7.9519 - mae: 8.4323 - val_loss: 7.0975 - val_mae: 7.5837\n",
            "Epoch 53/500\n",
            "33/33 [==============================] - 1s 33ms/step - loss: 7.9087 - mae: 8.3885 - val_loss: 7.0847 - val_mae: 7.5708\n",
            "Epoch 54/500\n",
            "33/33 [==============================] - 1s 33ms/step - loss: 7.8640 - mae: 8.3437 - val_loss: 7.0536 - val_mae: 7.5395\n",
            "Epoch 55/500\n",
            "33/33 [==============================] - 1s 34ms/step - loss: 7.8203 - mae: 8.3001 - val_loss: 7.0385 - val_mae: 7.5244\n",
            "Epoch 56/500\n",
            "33/33 [==============================] - 1s 33ms/step - loss: 7.7814 - mae: 8.2608 - val_loss: 7.0592 - val_mae: 7.5455\n",
            "Epoch 57/500\n",
            "33/33 [==============================] - 1s 33ms/step - loss: 7.7475 - mae: 8.2261 - val_loss: 7.1071 - val_mae: 7.5936\n",
            "Epoch 58/500\n",
            "33/33 [==============================] - 1s 31ms/step - loss: 7.7155 - mae: 8.1939 - val_loss: 7.1586 - val_mae: 7.6450\n",
            "Epoch 59/500\n",
            "33/33 [==============================] - 1s 32ms/step - loss: 7.6826 - mae: 8.1608 - val_loss: 7.2046 - val_mae: 7.6913\n",
            "Epoch 60/500\n",
            "33/33 [==============================] - 1s 32ms/step - loss: 7.6470 - mae: 8.1249 - val_loss: 7.2326 - val_mae: 7.7194\n",
            "Epoch 61/500\n",
            "33/33 [==============================] - 1s 31ms/step - loss: 7.6084 - mae: 8.0859 - val_loss: 7.2379 - val_mae: 7.7247\n",
            "Epoch 62/500\n",
            "33/33 [==============================] - 1s 33ms/step - loss: 7.5705 - mae: 8.0485 - val_loss: 7.2325 - val_mae: 7.7192\n",
            "Epoch 63/500\n",
            "33/33 [==============================] - 1s 32ms/step - loss: 7.5344 - mae: 8.0126 - val_loss: 7.2252 - val_mae: 7.7120\n",
            "Epoch 64/500\n",
            "33/33 [==============================] - 1s 32ms/step - loss: 7.5009 - mae: 7.9792 - val_loss: 7.2330 - val_mae: 7.7198\n",
            "Epoch 65/500\n",
            "33/33 [==============================] - 1s 33ms/step - loss: 7.4706 - mae: 7.9491 - val_loss: 7.2639 - val_mae: 7.7507\n",
            "Epoch 66/500\n",
            "33/33 [==============================] - 1s 32ms/step - loss: 7.4424 - mae: 7.9210 - val_loss: 7.3071 - val_mae: 7.7941\n",
            "Epoch 67/500\n",
            "33/33 [==============================] - 1s 32ms/step - loss: 7.4135 - mae: 7.8922 - val_loss: 7.3386 - val_mae: 7.8257\n",
            "Epoch 68/500\n",
            "33/33 [==============================] - 1s 31ms/step - loss: 7.3803 - mae: 7.8593 - val_loss: 7.3363 - val_mae: 7.8234\n",
            "Epoch 69/500\n",
            "33/33 [==============================] - 1s 32ms/step - loss: 7.3444 - mae: 7.8234 - val_loss: 7.3156 - val_mae: 7.8026\n",
            "Epoch 70/500\n",
            "33/33 [==============================] - 1s 32ms/step - loss: 7.3099 - mae: 7.7897 - val_loss: 7.2992 - val_mae: 7.7861\n",
            "Epoch 71/500\n",
            "33/33 [==============================] - 1s 31ms/step - loss: 7.2791 - mae: 7.7590 - val_loss: 7.3036 - val_mae: 7.7906\n"
          ],
          "name": "stdout"
        },
        {
          "output_type": "execute_result",
          "data": {
            "text/plain": [
              "<tensorflow.python.keras.callbacks.History at 0x7fca9576e940>"
            ]
          },
          "metadata": {
            "tags": []
          },
          "execution_count": 10
        }
      ]
    },
    {
      "cell_type": "code",
      "metadata": {
        "id": "tfLUXvECPayd",
        "colab_type": "code",
        "colab": {}
      },
      "source": [
        "# Load best model.\n",
        "model = tf.keras.models.load_model(checkpoint_name)"
      ],
      "execution_count": 0,
      "outputs": []
    },
    {
      "cell_type": "code",
      "metadata": {
        "id": "46r6ZjQSOk1G",
        "colab_type": "code",
        "colab": {
          "base_uri": "https://localhost:8080/",
          "height": 34
        },
        "outputId": "8b6d4546-9163-4ce6-c66f-596b4302a418"
      },
      "source": [
        "# Forcast the model.\n",
        "model.reset_states()\n",
        "rnn_forecast = model.predict(series[np.newaxis, :, np.newaxis])\n",
        "rnn_forecast = rnn_forecast[0, split_time - 1:-1, 0]\n",
        "rnn_forecast.shape"
      ],
      "execution_count": 12,
      "outputs": [
        {
          "output_type": "execute_result",
          "data": {
            "text/plain": [
              "(461,)"
            ]
          },
          "metadata": {
            "tags": []
          },
          "execution_count": 12
        }
      ]
    },
    {
      "cell_type": "code",
      "metadata": {
        "id": "WKX_6pULuLHP",
        "colab_type": "code",
        "outputId": "b5f52c9b-d9ba-4457-8946-9dcf4f448ae8",
        "colab": {
          "base_uri": "https://localhost:8080/",
          "height": 405
        }
      },
      "source": [
        "# Plot the forecast.\n",
        "plt.figure(figsize = (10, 6))\n",
        "plot_series(time_valid, series_valid)\n",
        "plot_series(time_valid, rnn_forecast)\n",
        "\n",
        "mae = tf.keras.metrics.mean_absolute_error(series_valid, rnn_forecast).numpy()\n",
        "print(\"MAE:\", mae)"
      ],
      "execution_count": 13,
      "outputs": [
        {
          "output_type": "stream",
          "text": [
            "MAE: 6.2778373\n"
          ],
          "name": "stdout"
        },
        {
          "output_type": "display_data",
          "data": {
            "image/png": "[encoded data removed]",
            "text/plain": [
              "<Figure size 720x432 with 1 Axes>"
            ]
          },
          "metadata": {
            "tags": []
          }
        }
      ]
    }
  ]
}